{
 "cells": [
  {
   "cell_type": "code",
   "execution_count": 6,
   "metadata": {},
   "outputs": [
    {
     "name": "stdout",
     "output_type": "stream",
     "text": [
      "the magnitude of linear velocity with radius 0.5m and angular velocity 10radians/sec is :5.0m/s\n",
      "the magnitude of linear velocity with radius 1m and angular velocity 10radians/sec is :10m/s\n",
      "the magnitude of linear velocity with radius 2m and angular velocity 10radians/sec is :20m/s\n"
     ]
    }
   ],
   "source": [
    "#Q 1\n",
    "\n",
    "rad1=0.5\n",
    "rad2=1\n",
    "rad3=2\n",
    "w=10\n",
    "v1=rad1*w\n",
    "print(\"the magnitude of linear velocity with radius 0.5m and angular velocity 10radians/sec is :\" + str(v1)+\"m/s\")\n",
    "v2=rad2*w\n",
    "print(\"the magnitude of linear velocity with radius 1m and angular velocity 10radians/sec is :\" + str(v2)+\"m/s\")\n",
    "v3=rad3*w\n",
    "print(\"the magnitude of linear velocity with radius 2m and angular velocity 10radians/sec is :\" + str(v3)+\"m/s\")\n"
   ]
  },
  {
   "cell_type": "code",
   "execution_count": 10,
   "metadata": {},
   "outputs": [
    {
     "name": "stdout",
     "output_type": "stream",
     "text": [
      "the magnitude of the linear velocity with radius 5cm and angular speed 523.3radians/sec :2615.62m/s\n",
      "the magnitude of the linear velocith with radius 10cm and angular speed 523.3radians/sec :5231.24m/s\n"
     ]
    }
   ],
   "source": [
    "#Q 2\n",
    "\n",
    "\n",
    "rad1=5\n",
    "rad2=10\n",
    "w=5000/60\n",
    "w=83.3*6.28\n",
    "v1=rad1*w\n",
    "print(\"the magnitude of the linear velocity with radius 5cm and angular speed 523.3radians/sec :\"+str(v1)+\"m/s\")\n",
    "v2=rad2*w\n",
    "print(\"the magnitude of the linear velocith with radius 10cm and angular speed 523.3radians/sec :\"+str(v2)+\"m/s\")"
   ]
  },
  {
   "cell_type": "code",
   "execution_count": 11,
   "metadata": {},
   "outputs": [
    {
     "name": "stdout",
     "output_type": "stream",
     "text": [
      "the magnitude of the angular velocity with radius 30cm and velocity 10m/s :33.333333333333336rad/sec\n"
     ]
    }
   ],
   "source": [
    "#Q 3\n",
    "\n",
    "\n",
    "radius=30/100\n",
    "v=10\n",
    "w=v/radius\n",
    "print(\"the magnitude of the angular velocity with radius 30cm and velocity 10m/s :\"+str(w)+\"rad/sec\")\n"
   ]
  },
  {
   "cell_type": "code",
   "execution_count": 12,
   "metadata": {},
   "outputs": [
    {
     "name": "stdout",
     "output_type": "stream",
     "text": [
      "the angular velocity with radius 0.25m and velocity 10m/s :40.0radians/sec\n"
     ]
    }
   ],
   "source": [
    "#Q 4\n",
    "\n",
    "radius=0.25\n",
    "velocity=10\n",
    "w=velocity/radius\n",
    "print(\"the angular velocity with radius 0.25m and velocity 10m/s :\"+str(w)+\"radians/sec\")"
   ]
  },
  {
   "cell_type": "code",
   "execution_count": 13,
   "metadata": {},
   "outputs": [
    {
     "name": "stdout",
     "output_type": "stream",
     "text": [
      "the distance of the car travelled in 10 sec is :2.5120000000000005m/s\n"
     ]
    }
   ],
   "source": [
    "#Q 5\n",
    "\n",
    "rad=20/100\n",
    "w=120/60\n",
    "w=2*6.28\n",
    "v=rad*w\n",
    "print(\"the distance of the car travelled in 10 sec is :\"+str(v)+\"m/s\")"
   ]
  },
  {
   "cell_type": "code",
   "execution_count": 15,
   "metadata": {},
   "outputs": [
    {
     "name": "stdout",
     "output_type": "stream",
     "text": [
      "the travelled the distance:70miles/hr from the initial position in 2 hours\n"
     ]
    }
   ],
   "source": [
    "#Q 6\n",
    "\n",
    "u=50\n",
    "a=10\n",
    "t=2\n",
    "v=u+a*t\n",
    "print(\"the travelled the distance:\" +str(v)+ \"miles/hr from the initial position in 2 hours\")\n"
   ]
  },
  {
   "cell_type": "code",
   "execution_count": 16,
   "metadata": {},
   "outputs": [
    {
     "name": "stdout",
     "output_type": "stream",
     "text": [
      "with velocity :80.0m/s it will hit the ground\n"
     ]
    }
   ],
   "source": [
    "#Q 7\n",
    "\n",
    "from math import sqrt\n",
    "u=0\n",
    "s=100\n",
    "a=32\n",
    "v=sqrt(2*a*s+u**2)\n",
    "print(\"with velocity :\"+str(v)+\"m/s it will hit the ground\")\n"
   ]
  }
 ],
 "metadata": {
  "kernelspec": {
   "display_name": "Python 3",
   "language": "python",
   "name": "python3"
  },
  "language_info": {
   "codemirror_mode": {
    "name": "ipython",
    "version": 3
   },
   "file_extension": ".py",
   "mimetype": "text/x-python",
   "name": "python",
   "nbconvert_exporter": "python",
   "pygments_lexer": "ipython3",
   "version": "3.7.3"
  }
 },
 "nbformat": 4,
 "nbformat_minor": 2
}
