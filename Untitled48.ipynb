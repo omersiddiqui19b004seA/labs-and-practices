{
 "cells": [
  {
   "cell_type": "code",
   "execution_count": 4,
   "metadata": {},
   "outputs": [],
   "source": [
    "#program 2\n",
    "familynumber={}\n",
    "def familynumbers(name,number):\n",
    "    familynumber[name]=number\n",
    "familynumbers('omer',300302039)\n",
    "familynumbers('ismail',300302039)\n",
    "familynumbers('wahab',300302039)\n",
    "familynumbers('adnan',300302039)\n",
    "familynumbers('abdullah',300302039)\n",
    "familynumbers('muhib',300302039)\n",
    "familynumbers('affan',300302039)\n",
    "familynumbers('imran',300302039)\n",
    "familynumbers('hamza',300302039)"
   ]
  },
  {
   "cell_type": "code",
   "execution_count": 3,
   "metadata": {},
   "outputs": [
    {
     "name": "stdout",
     "output_type": "stream",
     "text": [
      "{'name': 'omer siddiqui', 'father name': 'rizwan siddiqui', 'mother name ': 'munazza rizwan', 'sister ': 'mano and omaima'}\n",
      "{'name': 'omer siddiqui', 'father name': 'rizwan siddiqui', 'mother name ': 'munazza rizwan', 'sister ': 'mano and omaima', 'grandfather': 'khalid siddiuqi', 'grandmother': 'qamar taj', 'uncle': 'shahid', 'aunt': 'sana'}\n"
     ]
    }
   ],
   "source": [
    "#program 1\n",
    "family={'name':'omer siddiqui','father name':'rizwan siddiqui','mother name ':'munazza rizwan','sister ':'mano and omaima'}\n",
    "print(family)\n",
    "family['grandfather']='khalid siddiuqi'\n",
    "family['grandmother']='qamar taj'\n",
    "family['uncle']='shahid'\n",
    "family['aunt']='sana'\n",
    "print(family)"
   ]
  },
  {
   "cell_type": "code",
   "execution_count": 18,
   "metadata": {},
   "outputs": [
    {
     "name": "stdout",
     "output_type": "stream",
     "text": [
      "character and their ascii codes\n",
      "a:61\t b:62\t c:63\t d:64\t e:65\t f:66\t g:67\t h:68\t i:69\t j:6a\t k:6b\t l:6c\t m:6d\t n:6e\t o:6f\t p:70\t q:71\t r:72\t s:73\t t:74\t u:75\t v:76\t w:77\t x:78\t y:79\t z:7a\t "
     ]
    }
   ],
   "source": [
    "#program 3\n",
    "def hexASCII():\n",
    "    text='abcdefghijklmnopqrstuvwxyz'\n",
    "    print(\"character and their ascii codes\")\n",
    "    for c in text :\n",
    "        code=ord(c)\n",
    "        print('{}:{:x}\\t'.format(c,code),end=' ')\n",
    "hexASCII()"
   ]
  },
  {
   "cell_type": "code",
   "execution_count": null,
   "metadata": {},
   "outputs": [],
   "source": []
  }
 ],
 "metadata": {
  "kernelspec": {
   "display_name": "Python 3",
   "language": "python",
   "name": "python3"
  },
  "language_info": {
   "codemirror_mode": {
    "name": "ipython",
    "version": 3
   },
   "file_extension": ".py",
   "mimetype": "text/x-python",
   "name": "python",
   "nbconvert_exporter": "python",
   "pygments_lexer": "ipython3",
   "version": "3.7.3"
  }
 },
 "nbformat": 4,
 "nbformat_minor": 2
}
