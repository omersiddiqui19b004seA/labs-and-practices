{
 "cells": [
  {
   "cell_type": "code",
   "execution_count": 2,
   "metadata": {},
   "outputs": [
    {
     "name": "stdout",
     "output_type": "stream",
     "text": [
      "{'345-67-89', '234-56-78', '123-45-67'}\n",
      "the length of the phonebook is: 3\n",
      "the phonebook is: {'345-67-89', '234-56-78', '123-45-67'}\n"
     ]
    }
   ],
   "source": [
    "phonebook1={'123-45-67','234-56-78','345-67-89','123-45-67','345-67-89'}\n",
    "print(phonebook1)\n",
    "set_len=len(phonebook1)\n",
    "print(\"the length of the phonebook is:\",set_len)\n",
    "print(\"the phonebook is:\",phonebook1)"
   ]
  },
  {
   "cell_type": "code",
   "execution_count": 7,
   "metadata": {},
   "outputs": [
    {
     "name": "stdout",
     "output_type": "stream",
     "text": [
      "{17.5, 'usman institute of technology', (1, 2, 3, 4, 5, 6)}\n",
      "the length of a mix data is: 3\n"
     ]
    }
   ],
   "source": [
    "mix_data={'usman institute of technology',17.5,(1,2,3,4,5,6)}\n",
    "print(mix_data)\n",
    "set_len=len(mix_data)\n",
    "print(\"the length of a mix data is:\",set_len)"
   ]
  },
  {
   "cell_type": "code",
   "execution_count": 18,
   "metadata": {},
   "outputs": [
    {
     "name": "stdout",
     "output_type": "stream",
     "text": [
      "for a data scientist specialization you need: {'python', 'tableu', 'sql', 'sas', 'r', 'git'}\n",
      "for a data engineer specialization you need: {'python', 'sql', 'java', 'hadoop', 'scala', 'git'}\n"
     ]
    }
   ],
   "source": [
    "datascientist=set(['python','r','sql','git','tableu','sas'])\n",
    "dataengineer=set(['python','java','scala','git','sql','hadoop'])\n",
    "print(\"for a data scientist specialization you need:\",datascientist)\n",
    "print(\"for a data engineer specialization you need:\",dataengineer)"
   ]
  },
  {
   "cell_type": "code",
   "execution_count": 20,
   "metadata": {},
   "outputs": [
    {
     "name": "stdout",
     "output_type": "stream",
     "text": [
      "set()\n",
      "{}\n",
      "{}\n"
     ]
    }
   ],
   "source": [
    "my_empty_set=set()\n",
    "my_empty_dictionary1=dict()\n",
    "my_empty_dictionary2={}\n",
    "\n",
    "print(my_empty_set)\n",
    "print(my_empty_dictionary1)\n",
    "print(my_empty_dictionary2)"
   ]
  },
  {
   "cell_type": "code",
   "execution_count": 5,
   "metadata": {},
   "outputs": [
    {
     "name": "stdout",
     "output_type": "stream",
     "text": [
      "my top scoring students in programming fundamentals are: {'bassam', 'wadood', 'ahad', 'asma', 'yusra', 'usman', 'rafeh'}\n",
      "oh!i guess i miss one student ,let me add his name\n",
      "previously i have added:7students in my list\n",
      "thanks, i have remember him\n",
      "now my top scoring students are: {'khurram', 'bassam', 'wadood', 'ahad', 'asma', 'yusra', 'usman', 'rafeh'}\n",
      "now after adding i have :8  STUDENTS In my list\n"
     ]
    }
   ],
   "source": [
    "my_topstudents={'bassam','usman','rafeh','ahad','wadood','yusra','asma'}\n",
    "print(\"my top scoring students in programming fundamentals are:\",my_topstudents)\n",
    "print(\"oh!i guess i miss one student ,let me add his name\")\n",
    "print(\"previously i have added:\"+str(len(my_topstudents))+'students in my list')\n",
    "my_topstudents.add('khurram')\n",
    "print('thanks, i have remember him')\n",
    "print(\"now my top scoring students are:\",my_topstudents)\n",
    "print(\"now after adding i have :\"+ str(len(my_topstudents))+  \"  STUDENTS In my list\")"
   ]
  },
  {
   "cell_type": "code",
   "execution_count": 7,
   "metadata": {},
   "outputs": [
    {
     "name": "stdout",
     "output_type": "stream",
     "text": [
      "my top scoring students in programming fundamentals are: {'bassam', 'wadood', 'ahad', 'asma', 'yusra', 'usman', 'rafeh'}\n",
      "oh!i guess i miss one student ,let me add his name\n",
      "previously i have added:7students in my list\n",
      "thanks, i have remember him\n",
      "now my top scoring students are: {'bassam', 'wadood', 'ahad', 'asma', 'yusra', 'usman', 'khurram khalil', 'khurram khan', 'rafeh'}\n",
      "now after adding i have :9  STUDENTS In my list\n",
      "oh i guess i have added one student with similar name,let me remove his name\n",
      "now my top scoring students after removing extra name are : {'bassam', 'wadood', 'ahad', 'asma', 'yusra', 'usman', 'khurram khan', 'rafeh'}\n",
      "now after removing i have:8students in my list\n"
     ]
    }
   ],
   "source": [
    "my_topstudents={'bassam','usman','rafeh','ahad','wadood','yusra','asma'}\n",
    "print(\"my top scoring students in programming fundamentals are:\",my_topstudents)\n",
    "print(\"oh!i guess i miss one student ,let me add his name\")\n",
    "print(\"previously i have added:\"+str(len(my_topstudents))+'students in my list')\n",
    "my_topstudents.add('khurram khalil')\n",
    "my_topstudents.add('khurram khan')\n",
    "print('thanks, i have remember him')\n",
    "print(\"now my top scoring students are:\",my_topstudents)\n",
    "print(\"now after adding i have :\"+ str(len(my_topstudents))+  \"  STUDENTS In my list\")\n",
    "print(\"oh i guess i have added one student with similar name,let me remove his name\")\n",
    "my_topstudents.remove('khurram khalil')\n",
    "print(\"now my top scoring students after removing extra name are :\",my_topstudents)\n",
    "print(\"now after removing i have:\"+str(len(my_topstudents))+\"students in my list\")"
   ]
  },
  {
   "cell_type": "code",
   "execution_count": 9,
   "metadata": {},
   "outputs": [
    {
     "name": "stdout",
     "output_type": "stream",
     "text": [
      "my top scoring students in programming fundamentals are: {'bassam', 'wadood', 'ahad', 'asma', 'yusra', 'usman', 'rafeh'}\n",
      "oh!i guess i miss one student ,let me add his name\n",
      "previously i have added:7students in my list\n",
      "thanks, i have remember him\n",
      "now my top scoring students are: {'bassam', 'wadood', 'ahad', 'asma', 'yusra', 'usman', 'khurram khalil', 'khurram khan', 'rafeh'}\n",
      "now after adding i have :9  STUDENTS In my list\n",
      "oh i guess i have added one student with similar name,let me remove his name\n",
      "now my top scoring students after removing extra name are : {'bassam', 'wadood', 'ahad', 'asma', 'yusra', 'usman', 'khurram khan', 'rafeh'}\n",
      "now after removing i have:8students in my list\n",
      "now my top scoring students after removing extra name are : {'bassam', 'wadood', 'ahad', 'asma', 'yusra', 'usman', 'khurram khan', 'rafeh'}\n",
      "now after removing i have:8students in my list\n"
     ]
    }
   ],
   "source": [
    "my_topstudents={'bassam','usman','rafeh','ahad','wadood','yusra','asma'}\n",
    "print(\"my top scoring students in programming fundamentals are:\",my_topstudents)\n",
    "print(\"oh!i guess i miss one student ,let me add his name\")\n",
    "print(\"previously i have added:\"+str(len(my_topstudents))+'students in my list')\n",
    "my_topstudents.add('khurram khalil')\n",
    "my_topstudents.add('khurram khan')\n",
    "print('thanks, i have remember him')\n",
    "print(\"now my top scoring students are:\",my_topstudents)\n",
    "print(\"now after adding i have :\"+ str(len(my_topstudents))+  \"  STUDENTS In my list\")\n",
    "print(\"oh i guess i have added one student with similar name,let me remove his name\")\n",
    "my_topstudents.remove('khurram khalil')\n",
    "print(\"now my top scoring students after removing extra name are :\",my_topstudents)\n",
    "print(\"now after removing i have:\"+str(len(my_topstudents))+\"students in my list\")\n",
    "my_topstudents.discard('khurram khalil')\n",
    "print(\"now my top scoring students after removing extra name are :\",my_topstudents)\n",
    "print(\"now after removing i have:\"+str(len(my_topstudents))+\"students in my list\")"
   ]
  },
  {
   "cell_type": "code",
   "execution_count": 11,
   "metadata": {},
   "outputs": [
    {
     "name": "stdout",
     "output_type": "stream",
     "text": [
      "my top scoring students in programming fundamentals are: {'bassam', 'wadood', 'ahad', 'asma', 'yusra', 'usman', 'rafeh'}\n",
      "oh!i guess i miss one student ,let me add his name\n",
      "previously i have added:7students in my list\n",
      "thanks, i have remember him\n",
      "now my top scoring students are: {'bassam', 'wadood', 'ahad', 'asma', 'yusra', 'usman', 'khurram khalil', 'khurram khan', 'rafeh'}\n",
      "now after adding i have :9  STUDENTS In my list\n",
      "oh i guess i have added one student with similar name,let me remove his name\n",
      "now my top scoring students after removing extra name are : {'bassam', 'wadood', 'ahad', 'asma', 'yusra', 'usman', 'khurram khan', 'rafeh'}\n",
      "now after removing i have:8students in my list\n",
      "now my top scoring students after removing extra name are : {'bassam', 'wadood', 'ahad', 'asma', 'yusra', 'usman', 'khurram khan', 'rafeh'}\n",
      "now after removing i have:8students in my list\n",
      "now my top scoring students after removing extra name are : {'wadood', 'ahad', 'asma', 'yusra', 'usman', 'khurram khan', 'rafeh'}\n",
      "now after removing i have:7students in my list\n"
     ]
    }
   ],
   "source": [
    "my_topstudents={'bassam','usman','rafeh','ahad','wadood','yusra','asma'}\n",
    "print(\"my top scoring students in programming fundamentals are:\",my_topstudents)\n",
    "print(\"oh!i guess i miss one student ,let me add his name\")\n",
    "print(\"previously i have added:\"+str(len(my_topstudents))+'students in my list')\n",
    "my_topstudents.add('khurram khalil')\n",
    "my_topstudents.add('khurram khan')\n",
    "print('thanks, i have remember him')\n",
    "print(\"now my top scoring students are:\",my_topstudents)\n",
    "print(\"now after adding i have :\"+ str(len(my_topstudents))+  \"  STUDENTS In my list\")\n",
    "print(\"oh i guess i have added one student with similar name,let me remove his name\")\n",
    "my_topstudents.remove('khurram khalil')\n",
    "print(\"now my top scoring students after removing extra name are :\",my_topstudents)\n",
    "print(\"now after removing i have:\"+str(len(my_topstudents))+\"students in my list\")\n",
    "my_topstudents.discard('khurram khalil')\n",
    "print(\"now my top scoring students after removing extra name are :\",my_topstudents)\n",
    "print(\"now after removing i have:\"+str(len(my_topstudents))+\"students in my list\")\n",
    "my_topstudents.pop()\n",
    "print(\"now my top scoring students after removing extra name are :\",my_topstudents)\n",
    "print(\"now after removing i have:\"+str(len(my_topstudents))+\"students in my list\")"
   ]
  },
  {
   "cell_type": "code",
   "execution_count": 13,
   "metadata": {},
   "outputs": [
    {
     "name": "stdout",
     "output_type": "stream",
     "text": [
      "my top scoring students in programming fundamentals are: {'bassam', 'wadood', 'ahad', 'asma', 'yusra', 'usman', 'rafeh'}\n",
      "lets clear list and prepare new list for the finals :\n",
      "now after clearing the set i have : None\n"
     ]
    }
   ],
   "source": [
    "my_topstudents={'bassam','usman','rafeh','ahad','wadood','yusra','asma'}\n",
    "print(\"my top scoring students in programming fundamentals are:\",my_topstudents)\n",
    "print(\"lets clear list and prepare new list for the finals :\")\n",
    "my_topstudents=my_topstudents.clear()\n",
    "print(\"now after clearing the set i have :\",my_topstudents)"
   ]
  },
  {
   "cell_type": "code",
   "execution_count": 21,
   "metadata": {},
   "outputs": [
    {
     "name": "stdout",
     "output_type": "stream",
     "text": [
      "phonebook1 is: {'123-45-67', '345-67-89', '234-56-78'}\n",
      "phonebook2 is: {'345-67-89', '456-78-90'}\n",
      "the union of phonebook1 and phonebook2 is: {'123-45-67', '345-67-89', '234-56-78', '456-78-90'}\n",
      "the union of phonebook2 and phonebook1 is: {'234-56-78', '123-45-67', '345-67-89', '456-78-90'}\n",
      "the intersection of phonebook1 and phonebook2 is: {'345-67-89'}\n",
      "the intersection of phonebook2 and phonebook1 is: {'345-67-89'}\n",
      "the difference of phonebook1 and phonebook2 is: {'123-45-67', '234-56-78'}\n",
      "the difference of phonebook2 and phonebook1 is: {'345-67-89'}\n",
      "the symmetric difference between phonebook1 and phonebook2 is: {'123-45-67', '456-78-90', '234-56-78'}\n",
      "the symmetric difference between phonebook2 and phonebook1 is: {'123-45-67', '456-78-90', '234-56-78'}\n"
     ]
    }
   ],
   "source": [
    "phonebook1={'123-45-67','234-56-78','345-67-89','123-45-67','345-67-89'}\n",
    "phonebook2={'345-67-89','456-78-90'}\n",
    "print(\"phonebook1 is:\",phonebook1)\n",
    "print(\"phonebook2 is:\",phonebook2)\n",
    "print(\"the union of phonebook1 and phonebook2 is:\",phonebook1|phonebook2)\n",
    "print(\"the union of phonebook2 and phonebook1 is:\",phonebook2|phonebook1)\n",
    "print(\"the intersection of phonebook1 and phonebook2 is:\",phonebook1&phonebook2)\n",
    "print(\"the intersection of phonebook2 and phonebook1 is:\",phonebook2&phonebook1)\n",
    "print(\"the difference of phonebook1 and phonebook2 is:\",phonebook1-phonebook2)\n",
    "print(\"the difference of phonebook2 and phonebook1 is:\",phonebook2&phonebook1)\n",
    "print(\"the symmetric difference between phonebook1 and phonebook2 is:\",phonebook1^phonebook2)\n",
    "print(\"the symmetric difference between phonebook2 and phonebook1 is:\",phonebook2^phonebook1)"
   ]
  },
  {
   "cell_type": "code",
   "execution_count": 35,
   "metadata": {},
   "outputs": [
    {
     "name": "stdout",
     "output_type": "stream",
     "text": [
      "{'muhib', 'bashir', 'mujeeb', 'farhan', 'anees'}\n"
     ]
    }
   ],
   "source": [
    "best_students=set()\n",
    "for i in range(5):\n",
    "    i=i+1\n",
    "    best_students.add('mujeeb')\n",
    "    best_students.add('muhib')\n",
    "    best_students.add('anees')\n",
    "    best_students.add('farhan')\n",
    "    best_students.add('bashir')\n",
    "print(best_students)"
   ]
  },
  {
   "cell_type": "code",
   "execution_count": 31,
   "metadata": {},
   "outputs": [
    {
     "name": "stdout",
     "output_type": "stream",
     "text": [
      "{'bassam', 'ahad', 'usman'}\n"
     ]
    }
   ],
   "source": [
    "best_students={'bassam','usman','rafeh','ahad','wadood'}\n",
    "best_students.remove('rafeh')\n",
    "best_students.remove('wadood')\n",
    "print(best_students)"
   ]
  },
  {
   "cell_type": "code",
   "execution_count": 43,
   "metadata": {},
   "outputs": [
    {
     "name": "stdout",
     "output_type": "stream",
     "text": [
      "set()\n"
     ]
    }
   ],
   "source": []
  },
  {
   "cell_type": "code",
   "execution_count": null,
   "metadata": {},
   "outputs": [],
   "source": []
  }
 ],
 "metadata": {
  "kernelspec": {
   "display_name": "Python 3",
   "language": "python",
   "name": "python3"
  },
  "language_info": {
   "codemirror_mode": {
    "name": "ipython",
    "version": 3
   },
   "file_extension": ".py",
   "mimetype": "text/x-python",
   "name": "python",
   "nbconvert_exporter": "python",
   "pygments_lexer": "ipython3",
   "version": "3.7.3"
  }
 },
 "nbformat": 4,
 "nbformat_minor": 2
}
