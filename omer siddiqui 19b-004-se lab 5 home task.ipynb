{
 "cells": [
  {
   "cell_type": "code",
   "execution_count": 10,
   "metadata": {},
   "outputs": [
    {
     "name": "stdout",
     "output_type": "stream",
     "text": [
      "enter radius of a cylinder2\n",
      "enter height of a cylinder2\n",
      "the area of the cylinder is:  50.26548245743669\n",
      "enter radius of a cylinder2\n",
      "enter height of a cylinder2\n",
      "the volume of cylinder is 25.13cm³ \n"
     ]
    }
   ],
   "source": [
    "#question 1\n",
    "from math import pi \n",
    "def area():\n",
    "    r=float(input(\"enter radius of a cylinder\"))\n",
    "    h=float(input(\"enter height of a cylinder\"))\n",
    "    Area=2*pi*r*h+2*pi*r**2\n",
    "    print(\"the area of the cylinder is: \",Area)\n",
    "area()\n",
    "def volume():\n",
    "    r=float(input(\"enter radius of a cylinder\"))\n",
    "    h=float(input(\"enter height of a cylinder\"))\n",
    "    Volume=pi*r**2*h\n",
    "    print(\"the volume of cylinder is {0:.{1}f}cm\\u00b3 \".format(Volume,2))\n",
    "volume()"
   ]
  },
  {
   "cell_type": "code",
   "execution_count": 1,
   "metadata": {},
   "outputs": [
    {
     "name": "stdout",
     "output_type": "stream",
     "text": [
      "enter length :5\n",
      "enter width :6\n",
      "area of the rectangle is : 30\n",
      "enter length :6\n",
      "enter width :5\n",
      "the perimeter is : 60\n"
     ]
    }
   ],
   "source": [
    "#question 2\n",
    "def area():\n",
    "    l=int(input(\"enter length :\"))\n",
    "    w=int(input(\"enter width :\"))\n",
    "    Area=l*w\n",
    "    print(\"area of the rectangle is :\",Area)\n",
    "area()\n",
    "def perimeter():\n",
    "    l=int(input(\"enter length :\"))\n",
    "    w=int(input(\"enter width :\"))\n",
    "    p=2*(l*w)\n",
    "    print(\"the perimeter is :\",p)\n",
    "perimeter()\n",
    "    "
   ]
  },
  {
   "cell_type": "code",
   "execution_count": 2,
   "metadata": {},
   "outputs": [
    {
     "name": "stdout",
     "output_type": "stream",
     "text": [
      "Enter the first term: 4\n",
      "Enter the common difference term: 6\n",
      "enter the nth term :98\n",
      "The nth term is:  586\n",
      "Do you want to continue? Then enter 'Yes'\\:\n",
      "Yes or No: yes\n",
      "Sorry wrong string \n"
     ]
    }
   ],
   "source": [
    "#question 3\n",
    "def sequence():\n",
    "    \n",
    "    a=int(input(\"Enter the first term: \"))\n",
    "    d=int(input(\"Enter the common difference term: \"))\n",
    "    y = 'YES'\n",
    "    for i in range(0,100):\n",
    "        if y == 'YES':\n",
    "            n=int(input(\"enter the nth term :\"))\n",
    "            T = a + (n - 1)*d\n",
    "            print(\"The nth term is: \", T)\n",
    "            print(\"Do you want to continue? Then enter \\'Yes'\\:\")\n",
    "            y = (input(\"Yes or No: \"))\n",
    "    if y == 'NO':\n",
    "        print(\"Thank you sir enjoy your day\")\n",
    "        \n",
    "    else:\n",
    "        print(\"Sorry wrong string \")\n",
    "sequence()"
   ]
  },
  {
   "cell_type": "code",
   "execution_count": 4,
   "metadata": {},
   "outputs": [
    {
     "name": "stdout",
     "output_type": "stream",
     "text": [
      "enter the word :civic\n",
      "the given word is palindrome \n"
     ]
    }
   ],
   "source": [
    "#question 4\n",
    "def palindrome():\n",
    "    \n",
    "    a=str(input(\"enter the word :\"))\n",
    "    b=a.casefold()\n",
    "    c = b [::-1]\n",
    "    if b==c:\n",
    "        print(\"the given word is palindrome \")\n",
    "    else:\n",
    "        print(\"you searched the wrong string :\")\n",
    "palindrome()"
   ]
  },
  {
   "cell_type": "code",
   "execution_count": 3,
   "metadata": {},
   "outputs": [
    {
     "name": "stdout",
     "output_type": "stream",
     "text": [
      "enter your name :\n",
      "enter your father name :Rizwan Hussain Sidiqui\n",
      "enter your roll number :85744\n",
      "enter your section :A\n",
      "enter your computer marks 65\n",
      "enter your pst marks 65\n",
      "enter your english marks 64\n",
      "enter your islamiat marks 75\n",
      "enter your physics marks 65\n",
      "enter your chemistry marks 65\n",
      "enter your urdu marks 65\n",
      "enter serial number 3874394893\n",
      "enter controller nameSindh\n",
      "enter name of head of departmentOmer\n",
      "enter school name Usman Public\n",
      "\n",
      "\n",
      "\t\t\t\t BOARD OF SECONDARY EDUCATION\n",
      "\n",
      "\t\t\t\t -----SSC MARKSHEET-----\n",
      "\t\t\t\t\t\t\t\t\t serial no 3874394893\n",
      "\n",
      "\n",
      "\n",
      "\t\t name : \n",
      "\t\t father name : Rizwan Hussain Sidiqui\n",
      "\t\t roll number : 85744\n",
      "\t\t section : A\n",
      "\t\t school name :  Usman Public\n",
      "\n",
      "\n",
      "\t SUBJECTS \t\t\t TOTAL  \t\t OBTAIN MARKS\n",
      "\n",
      "\t COMPUTER SCIENCE  : \t\t 100 \t\t\t 65.0\n",
      "\n",
      "\t PAKISTAN STUDIES  : \t\t 100 \t\t\t 65.0\n",
      "\n",
      "\t ENGLISH           : \t\t 100 \t\t\t 64.0\n",
      "\n",
      "\t ISLAMIC STUDIES   : \t\t 100 \t\t\t 75.0\n",
      "\n",
      "\t PHYSICS           : \t\t 100 \t\t\t 65.0\n",
      "\n",
      "\t CHEMISTRY         : \t\t 100 \t\t\t 65.0\n",
      "\n",
      "\t URDU SCIENCES     : \t\t 100 \t\t\t 65.0\n",
      "\n",
      "\n",
      "\t TOTAL MARKS : 700\n",
      "\t MARKS OBTAINED : 464.0\n",
      "\n",
      "\n",
      "\t\t\t\t PERCENTEAGE   66.28571428571428 %\n",
      "\n",
      "\t\t\t\t\t\t\t CONTROLLOR OF EXAMINATIUON  Sindh\n",
      "\t\t\t\t\t\t\t HEAD OF DEPARTMENRT  Omer\n",
      "your grade is B\n"
     ]
    }
   ],
   "source": [
    "#### question 5\n",
    "def marksheet():\n",
    "    \n",
    "    name=str(input(\"enter your name :\"))\n",
    "    father_name=str(input(\"enter your father name :\"))\n",
    "    roll_no=str(input(\"enter your roll number :\"))\n",
    "    section=str(input(\"enter your section :\"))\n",
    "    \n",
    "    computer=float(input(\"enter your computer marks \"))\n",
    "    pst=float(input(\"enter your pst marks \"))\n",
    "    english=float(input(\"enter your english marks \"))\n",
    "    islamiat=float(input(\"enter your islamiat marks \"))\n",
    "    physics=float(input(\"enter your physics marks \"))\n",
    "    chem=float(input(\"enter your chemistry marks \"))\n",
    "    urdu=float(input(\"enter your urdu marks \"))\n",
    "    serial_no=int(input(\"enter serial number \"))\n",
    "    controller_name=str(input(\"enter controller name\"))\n",
    "    hod=str(input(\"enter name of head of department\"))\n",
    "    school_name=str(input(\"enter school name \"))\n",
    "    \n",
    "    mark_obtained=computer+pst+english+islamiat+physics+chem+urdu\n",
    "    total=700\n",
    "    percentage=(mark_obtained/total)*100\n",
    "    print(\"\\n\\n\\t\\t\\t\\t BOARD OF SECONDARY EDUCATION\")\n",
    "    print(\"\\n\\t\\t\\t\\t -----SSC MARKSHEET-----\")\n",
    "    print(\"\\t\\t\\t\\t\\t\\t\\t\\t\\t serial no\",serial_no)\n",
    "    print(\"\\n\\n\\n\\t\\t name :\",name)\n",
    "    print(\"\\t\\t father name :\",father_name)\n",
    "    print(\"\\t\\t roll number :\",roll_no)\n",
    "    print(\"\\t\\t section :\",section)\n",
    "    print(\"\\t\\t school name : \",school_name)\n",
    "\n",
    "    print(\"\\n\\n\\t SUBJECTS\",\"\\t\\t\\t TOTAL \",\"\\t\\t OBTAIN MARKS\")\n",
    "    print(\"\\n\\t COMPUTER SCIENCE  :\",\"\\t\\t 100\",\"\\t\\t\\t\", computer)\n",
    "    print(\"\\n\\t PAKISTAN STUDIES  :\",\"\\t\\t 100\",\"\\t\\t\\t\",pst)\n",
    "    print(\"\\n\\t ENGLISH           :\",\"\\t\\t 100\",\"\\t\\t\\t\",english)\n",
    "    print(\"\\n\\t ISLAMIC STUDIES   :\",\"\\t\\t 100\",\"\\t\\t\\t\",islamiat)\n",
    "    print(\"\\n\\t PHYSICS           :\",\"\\t\\t 100\",\"\\t\\t\\t\",physics)\n",
    "    print(\"\\n\\t CHEMISTRY         :\",\"\\t\\t 100\",\"\\t\\t\\t\",chem)\n",
    "    print(\"\\n\\t URDU SCIENCES     :\",\"\\t\\t 100\",\"\\t\\t\\t\",urdu)\n",
    "    print(\"\\n\\n\\t TOTAL MARKS :\",total)\n",
    "    print(\"\\t MARKS OBTAINED :\",mark_obtained)\n",
    "    print(\"\\n\\n\\t\\t\\t\\t PERCENTEAGE  \",percentage,\"%\")\n",
    "    print(\"\\n\\t\\t\\t\\t\\t\\t\\t CONTROLLOR OF EXAMINATIUON \",controller_name)\n",
    "    print(\"\\t\\t\\t\\t\\t\\t\\t HEAD OF DEPARTMENRT \",hod)\n",
    "   \n",
    "    \n",
    "    \n",
    "    \n",
    "    \n",
    "    if percentage >=80:\n",
    "        print(\"your grade is A+\")\n",
    "    elif percentage >=70:\n",
    "                print(\"your grade is A\")"
   ]
  },
  {
   "cell_type": "code",
   "execution_count": 5,
   "metadata": {},
   "outputs": [
    {
     "name": "stdout",
     "output_type": "stream",
     "text": [
      "enter initial velocity m/s6\n",
      "enter acceleration m/s**2:5\n",
      "enter time in seconds 6\n",
      "final velocity is  36.0\n",
      "enter initial velocity m/s6\n",
      "enter acceleration m/s**2:5\n",
      "enter time in seconds 6\n",
      "enter final velocity m/s:6\n",
      "distance is   21.6\n",
      "enter initial velocity m/s5\n",
      "enter acceleration m/s**2:6\n",
      "enter time in seconds 6\n",
      "distance is   138.0\n"
     ]
    }
   ],
   "source": [
    "###### question 6\n",
    "def law1():\n",
    "    \n",
    "    vi=float(input(\"enter initial velocity \"+\"m/s\"))\n",
    "    a=float(input(\"enter acceleration \"+\"m/s**2:\"))\n",
    "    t=float(input(\"enter time in seconds \"))\n",
    "    vf=vi+a*t\n",
    "    print(\"final velocity is \",vf)\n",
    "law1()\n",
    "def law3():\n",
    "    \n",
    "    vi=float(input(\"enter initial velocity \"+\"m/s\"))\n",
    "    a=float(input(\"enter acceleration \"+\"m/s**2:\"))\n",
    "    t=float(input(\"enter time in seconds \"))\n",
    "    vf=float(input(\"enter final velocity \"+\"m/s:\"))\n",
    "    s=vf**2-vi**2/a*2\n",
    "    print(\"distance is  \",s)\n",
    "law3()\n",
    "def law2():\n",
    "    \n",
    "    vi=float(input(\"enter initial velocity \"+\"m/s\"))\n",
    "    a=float(input(\"enter acceleration \"+\"m/s**2:\"))\n",
    "    t=float(input(\"enter time in seconds \"))\n",
    "    s=vi*t+1/2*(a)*t**2\n",
    "    print(\"distance is  \",s)\n",
    "law2()"
   ]
  },
  {
   "cell_type": "code",
   "execution_count": 6,
   "metadata": {},
   "outputs": [
    {
     "name": "stdout",
     "output_type": "stream",
     "text": [
      "enter velocity  6\n",
      "enter angle  50\n",
      "the height of the projectile is   -46.282924193373034\n"
     ]
    }
   ],
   "source": [
    "#question 7\n",
    "from math import sin\n",
    "def projectile():\n",
    "    v=float(input(\"enter velocity  \"))\n",
    "    g=9.8\n",
    "    angle=float(input(\"enter angle  \"))\n",
    "    h=v**2*sin(angle)/2*g\n",
    "    print(\"the height of the projectile is  \",h)\n",
    "    \n",
    "projectile()"
   ]
  },
  {
   "cell_type": "code",
   "execution_count": 8,
   "metadata": {},
   "outputs": [
    {
     "name": "stdout",
     "output_type": "stream",
     "text": [
      "the reversed name is: iuqiddis remo\n"
     ]
    }
   ],
   "source": [
    "#question 8\n",
    "def reverse_name():\n",
    "    name='omer siddiqui'\n",
    "    reverse=name[::-1]\n",
    "    print(\"the reversed name is:\",reverse)\n",
    "\n",
    "reverse_name() "
   ]
  },
  {
   "cell_type": "code",
   "execution_count": 9,
   "metadata": {},
   "outputs": [
    {
     "data": {
      "text/plain": [
       "['q']"
      ]
     },
     "execution_count": 9,
     "metadata": {},
     "output_type": "execute_result"
    }
   ],
   "source": [
    "#question 9\n",
    "def caesar_encrypt(realText,step):\n",
    "    outText=[]\n",
    "    cryptText=[]\n",
    "    \n",
    "    uppercase=['A','B','C','D','E','F','G','H','I','J','K','L','M','N','O','P','Q','R','S','T','U','V','W','X','Y','Z']\n",
    "    lowercase=['a','b','c','d','e','f','g','h','i','j','k','l','m','n','o','p','q','r','s','t','u','v','w','x','y','z']\n",
    "    \n",
    "    \n",
    "    for eachLetter in realText:\n",
    "        \n",
    "        if eachLetter in uppercase:\n",
    "            index=uppercase.index(eachLetter)\n",
    "            crypting=(index+step)%26\n",
    "            cryptText.append(crypting)\n",
    "            newLetter=uppercase[crypting]\n",
    "            outText.append(newLetter)\n",
    "            \n",
    "        elif eachLetter in lowercase:\n",
    "                index=lowercase.index(eachLetter)\n",
    "                crypting=(index+step)%26\n",
    "                cryptText.append(crypting)\n",
    "                newLetter=lowercase[crypting]\n",
    "                outText.append(newLetter)\n",
    "        return outText\n",
    "caesar_encrypt('omer',2)            "
   ]
  },
  {
   "cell_type": "code",
   "execution_count": 10,
   "metadata": {},
   "outputs": [
    {
     "name": "stdout",
     "output_type": "stream",
     "text": [
      "enter angle 65\n",
      "0.8268286794901034\n",
      "enter angle 65\n",
      "-0.562453851238172\n",
      "enter angle 76\n",
      "0.6867476893515227\n"
     ]
    }
   ],
   "source": [
    "# question 10\n",
    "import math\n",
    "def sin():\n",
    "    angle=float(input(\"enter angle \"))\n",
    "    a=math.sin(angle)\n",
    "    print(a)\n",
    "    \n",
    "sin() \n",
    "def cos():\n",
    "    angle=float(input(\"enter angle \"))\n",
    "    a=math.cos(angle)\n",
    "    print(a)\n",
    "    \n",
    "cos()\n",
    "def tan():\n",
    "    angle=float(input(\"enter angle \"))\n",
    "    a=math.tan(angle)\n",
    "    print(a)\n",
    "    \n",
    "tan()\n"
   ]
  },
  {
   "cell_type": "code",
   "execution_count": 11,
   "metadata": {},
   "outputs": [
    {
     "name": "stdout",
     "output_type": "stream",
     "text": [
      "area of big circle is  153.93804002589985\n",
      "area of the semi circle is   75.39822368615502\n",
      "/n/n\n",
      "perimeter of big circle is  43.982297150257104\n",
      "perimeter of the semi circle is   87.96459430051421\n"
     ]
    }
   ],
   "source": [
    "#question 11\n",
    "from math import pi\n",
    "def area():\n",
    "    r1=7\n",
    "    r2=3\n",
    "    r3=4\n",
    "    area1=pi*r1**2\n",
    "    print(\"area of big circle is \",area1)\n",
    "    area2=pi*r2**2\n",
    "    area3=pi*r3**2\n",
    "    area4=area1-(area2+area3)\n",
    "    print(\"area of the semi circle is  \",area4)\n",
    "area()    \n",
    "def perimeter():\n",
    "    print('/n/n')\n",
    "    r1=7\n",
    "    r2=3\n",
    "    r3=4\n",
    "    perimeter=2*pi*r1\n",
    "    print(\"perimeter of big circle is \",perimeter)\n",
    "    perimeter2=2*pi*r2\n",
    "    perimeter3=2*pi*r3\n",
    "    perimeter4=perimeter+perimeter2+perimeter3\n",
    "    print(\"perimeter of the semi circle is  \",perimeter4)\n",
    "perimeter() \n"
   ]
  }
 ],
 "metadata": {
  "kernelspec": {
   "display_name": "Python 3",
   "language": "python",
   "name": "python3"
  },
  "language_info": {
   "codemirror_mode": {
    "name": "ipython",
    "version": 3
   },
   "file_extension": ".py",
   "mimetype": "text/x-python",
   "name": "python",
   "nbconvert_exporter": "python",
   "pygments_lexer": "ipython3",
   "version": "3.7.3"
  }
 },
 "nbformat": 4,
 "nbformat_minor": 2
}
