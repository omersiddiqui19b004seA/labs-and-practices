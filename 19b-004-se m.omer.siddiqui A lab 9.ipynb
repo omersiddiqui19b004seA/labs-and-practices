{
 "cells": [
  {
   "cell_type": "code",
   "execution_count": 31,
   "metadata": {},
   "outputs": [
    {
     "name": "stdout",
     "output_type": "stream",
     "text": [
      "set()\n"
     ]
    }
   ],
   "source": [
    "items={'milk','sugar','flour','bread','coffee'}\n",
    "price={100,50,40,50,150}\n",
    "for i in range (5):\n",
    "    items.pop()\n",
    "print(items)"
   ]
  },
  {
   "cell_type": "code",
   "execution_count": 33,
   "metadata": {},
   "outputs": [
    {
     "name": "stdout",
     "output_type": "stream",
     "text": [
      "students who play hockey are: 21\n",
      "students who play both are: 10\n",
      "universal : 40\n",
      "students who play cricket are: 9\n"
     ]
    }
   ],
   "source": [
    "#question 5\n",
    "hockey=21\n",
    "both=10\n",
    "universal=40\n",
    "print(\"students who play hockey are:\",hockey)\n",
    "print(\"students who play both are:\",both)\n",
    "print(\"universal :\",universal)\n",
    "cricket=universal-hockey-both\n",
    "print(\"students who play cricket are:\",cricket)"
   ]
  },
  {
   "cell_type": "code",
   "execution_count": null,
   "metadata": {},
   "outputs": [],
   "source": [
    "#question 6\n",
    "dog=83\n",
    "cat=101\n",
    "fish=22\n",
    "print(\"the dog products are :\",dog)\n",
    "print(\"the cat products are :\",cat)\n",
    "print(\"the fish products are :\",fish)\n",
    "#i\n",
    "dc=31\n",
    "df=8\n",
    "cf=36\n",
    "dcf=34\n",
    "dog_only=dog-df-dcf-cf\n",
    "cat_only=cat-df-dcf-cf\n",
    "fish_only=fish-df-dcf-cf\n"
   ]
  }
 ],
 "metadata": {
  "kernelspec": {
   "display_name": "Python 3",
   "language": "python",
   "name": "python3"
  },
  "language_info": {
   "codemirror_mode": {
    "name": "ipython",
    "version": 3
   },
   "file_extension": ".py",
   "mimetype": "text/x-python",
   "name": "python",
   "nbconvert_exporter": "python",
   "pygments_lexer": "ipython3",
   "version": "3.6.4"
  }
 },
 "nbformat": 4,
 "nbformat_minor": 2
}
