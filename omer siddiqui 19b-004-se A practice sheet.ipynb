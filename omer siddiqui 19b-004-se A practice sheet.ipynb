{
 "cells": [
  {
   "cell_type": "code",
   "execution_count": null,
   "metadata": {},
   "outputs": [],
   "source": [
    "#time = 5 minute\n",
    "from math import pi,sqrt\n",
    "def areas():\n",
    "    base_t = 3\n",
    "    radius_c = 1.5\n",
    "    height_t = sqrt(3**2 - 1.5**2)\n",
    "    Area_T = 6 * (.5 * base_t * height_t)\n",
    "    Area_C = pi * radius_c**2\n",
    "    Shaded = Area_T-Area_C\n",
    "    print(\"Area of Shaded Regoin = {0:.{1}f}cm\\u00b3\".format(Shaded,2))\n",
    "    \n",
    "areas()"
   ]
  },
  {
   "cell_type": "code",
   "execution_count": 2,
   "metadata": {},
   "outputs": [
    {
     "name": "stdout",
     "output_type": "stream",
     "text": [
      "['rizwan']\n"
     ]
    }
   ],
   "source": [
    "#Question 2 time = 20 minutes\n",
    "def therelation(Relation):\n",
    "    relations = {'mother' : ['munazza'] , 'father' : ['rizwan']  , 'sister' : ['mano','omaima']  }\n",
    "    if Relation.lower() in relations:\n",
    "        print(relations.get(Relation.lower()))\n",
    "    else:\n",
    "        print(\"Sorry Relation Does not exist in your family\")\n",
    "therelation('father')"
   ]
  },
  {
   "cell_type": "code",
   "execution_count": 8,
   "metadata": {},
   "outputs": [
    {
     "name": "stdout",
     "output_type": "stream",
     "text": [
      "Area of Region = 15.90cm³\n"
     ]
    }
   ],
   "source": [
    "#time = 10 minutes\n",
    "import math\n",
    "def area():\n",
    "    base = 5\n",
    "    radius = 2.25\n",
    "    height = math.sqrt(3**2 - 1.5**2)\n",
    "    Area1 = 6 * (.5 * base * height)\n",
    "    Area2 = math.pi * radius**2\n",
    "    print(\"Area of Region = {0:.{1}f}cm\\u00b3\".format(Area2,2))\n",
    "    \n",
    "area()"
   ]
  },
  {
   "cell_type": "code",
   "execution_count": 9,
   "metadata": {},
   "outputs": [
    {
     "name": "stdout",
     "output_type": "stream",
     "text": [
      "Enter the Numbers : 4\n",
      "Enter the Numbers : 6\n",
      "Enter the Numbers : 8\n",
      "Enter the Numbers : 10\n",
      "Enter the Numbers : 86\n",
      "Enter the Numbers : 7\n",
      "Total Sum of Even Numbers Only =  114\n"
     ]
    }
   ],
   "source": [
    "#time = 15 minutes\n",
    "def number():\n",
    "    x = [0,0,0,0,0,0]\n",
    "    sum = 0\n",
    "    for i in range(6):\n",
    "        x[i]=int(input(\"Enter the Numbers : \"))\n",
    "    \n",
    "    for i in x:\n",
    "        if i%2==0:\n",
    "            sum = sum + i\n",
    "    print(\"Total Sum of Even Numbers Only = \",sum)\n",
    "number()"
   ]
  },
  {
   "cell_type": "code",
   "execution_count": 11,
   "metadata": {},
   "outputs": [
    {
     "name": "stdout",
     "output_type": "stream",
     "text": [
      "Enter the Numbers : 5\n",
      "Enter the Numbers : 4\n",
      "Enter the Numbers : 3\n",
      "Enter the Numbers : 2\n",
      "Enter the Numbers : 1\n",
      "Enter the Numbers : 7\n",
      "[1, 2, 3, 4, 5, 7]\n"
     ]
    }
   ],
   "source": [
    "#5 time = 9 mins\n",
    "def sorting():\n",
    "    x = [0,0,0,0,0,0]\n",
    "    sum = 0\n",
    "    for i in range(6):\n",
    "        x[i]=int(input(\"Enter the Numbers : \"))\n",
    "    x.sort()\n",
    "    print(x)\n",
    "sorting()"
   ]
  },
  {
   "cell_type": "code",
   "execution_count": 13,
   "metadata": {},
   "outputs": [
    {
     "name": "stdout",
     "output_type": "stream",
     "text": [
      "Original Area : 50.27cm² \n",
      "Area with 5% increment : 52.78cm \n",
      "Original Perimeter : 25.13cm² \n",
      "Perimeter with 5% increment : 26.39cm \n"
     ]
    }
   ],
   "source": [
    "#Time = 12 minutes\n",
    "from math import pi\n",
    "def incrementation(r):\n",
    "    Area1 = pi * r**2\n",
    "    Perimeter1 = 2 * pi * r\n",
    "    Area2= (Area1/100)*105\n",
    "    Perimeter2 = (Perimeter1/100)*105\n",
    "    print(\"Original Area : {0:.{1}f}cm\\u00b2 \".format(Area1,2))\n",
    "    print(\"Area with 5% increment : {0:.{1}f}cm \".format(Area2,2))\n",
    "    print(\"Original Perimeter : {0:.{1}f}cm\\u00b2 \".format(Perimeter1,2))\n",
    "    print(\"Perimeter with 5% increment : {0:.{1}f}cm \".format(Perimeter2,2))\n",
    "incrementation(4)"
   ]
  },
  {
   "cell_type": "code",
   "execution_count": 16,
   "metadata": {},
   "outputs": [
    {
     "name": "stdout",
     "output_type": "stream",
     "text": [
      "Enter a String : omer\n",
      "\n",
      "\n",
      "Total Number of Vowels :  2\n",
      "\n",
      "\n",
      "Total Number of Consonants :  2\n"
     ]
    }
   ],
   "source": [
    "#time 7 minutes\n",
    "def count():\n",
    "    total = 0\n",
    "    count = 0\n",
    "    string = input(\"Enter a String : \")\n",
    "    \n",
    "    for i in string:\n",
    "        if i in 'AEIOUaeiou':\n",
    "            total=total + 1\n",
    "        else:\n",
    "            count=count + 1\n",
    "    print(\"\\n\")\n",
    "    print(\"Total Number of Vowels : \",total)\n",
    "    print(\"\\n\")\n",
    "    print(\"Total Number of Consonants : \",count)\n",
    "count()"
   ]
  },
  {
   "cell_type": "code",
   "execution_count": 19,
   "metadata": {},
   "outputs": [
    {
     "name": "stdout",
     "output_type": "stream",
     "text": [
      "Enter length : 5\n",
      "Enter Breath : 6\n",
      "Area : 30.00cm² \n",
      "Area with 5% increse : 32.40cm \n",
      "Perimeter : 22.00cm² \n",
      "Perimeter with 5% increase : 23.76cm \n"
     ]
    }
   ],
   "source": [
    "#time 15 minutes\n",
    "def incrementation():\n",
    "    l = int(input(\"Enter length : \"))\n",
    "    b = int(input(\"Enter Breath : \"))\n",
    "    Area1 = l * b\n",
    "    Perimeter1 = 2*l + 2*b\n",
    "    Area2= (Area1/100)*108\n",
    "    Perimeter2 = (Perimeter1/100)*108\n",
    "    print(\"Area : {0:.{1}f}cm\\u00b2 \".format(Area1,2))\n",
    "    print(\"Area with 5% increse : {0:.{1}f}cm \".format(Area2,2))\n",
    "    print(\"Perimeter : {0:.{1}f}cm\\u00b2 \".format(Perimeter1,2))\n",
    "    print(\"Perimeter with 5% increase : {0:.{1}f}cm \".format(Perimeter2,2))\n",
    "incrementation()"
   ]
  },
  {
   "cell_type": "code",
   "execution_count": 20,
   "metadata": {},
   "outputs": [
    {
     "name": "stdout",
     "output_type": "stream",
     "text": [
      "Enter a Number : 5\n",
      "Enter a Number : 4\n",
      "Enter a Number : 6\n",
      "Enter a Number : 5\n",
      "Enter a Number : 4\n",
      "Enter a Number : 6\n",
      "Even :  ['4', '6', '4', '6']\n",
      "Odd :  ['5', '5']\n"
     ]
    }
   ],
   "source": [
    "#time 20 minute\n",
    "def evaalue():\n",
    "    x = []\n",
    "    y = []\n",
    "    for i in range(6):\n",
    "        number = str(input(\"Enter a Number : \"))\n",
    "        if int(number)%2==0:\n",
    "            x.append(number)\n",
    "        else:\n",
    "            y.append(number)\n",
    "    print(\"Even : \",x)\n",
    "    print(\"Odd : \",y)\n",
    "evaalue()"
   ]
  },
  {
   "cell_type": "code",
   "execution_count": 21,
   "metadata": {},
   "outputs": [
    {
     "name": "stdout",
     "output_type": "stream",
     "text": [
      "Number of Alphabets Used :  4\n",
      "\n",
      "Aphabets not used \n",
      "['b', 'c', 'd', 'e', 'f', 'g', 'h', 'j', 'k', 'm', 'n', 'o', 'p', 'q', 'r', 's', 't', 'u', 'v', 'x', 'y', 'z']\n"
     ]
    }
   ],
   "source": [
    "#time 16 minutes\n",
    "def count(b):\n",
    "    count = 0\n",
    "    a = ['a','b','c','d','e','f','g','h','i','j','k','l','m','n','o','p','q','r','s','t','u','v','w','x','y','z']\n",
    "    b.casefold()\n",
    "    c=['']\n",
    "    for i in b :\n",
    "        if i in a and i not in c:\n",
    "            count = count + 1 \n",
    "            x = c.append(i)\n",
    "            a.remove(i)\n",
    "    print(\"Number of Alphabets Used : \" ,count)\n",
    "    print(\"\\nAphabets not used \")\n",
    "    print(a)\n",
    "    \n",
    "count('MIAN wali')"
   ]
  },
  {
   "cell_type": "code",
   "execution_count": 25,
   "metadata": {},
   "outputs": [
    {
     "name": "stdout",
     "output_type": "stream",
     "text": [
      "Enter verbs : swim\n",
      "Enter verbs : omer\n",
      "Enter verbs : make\n",
      "Enter verbs : weld\n",
      "['swiming', 'omering', 'makeing', 'welding']\n"
     ]
    }
   ],
   "source": [
    "#time 14 minutes\n",
    "def countinue():\n",
    "    alph = ['','','','']\n",
    "    b = ['','','','']\n",
    "    for i in range(4):\n",
    "        alph[i] = str(input(\"Enter verbs : \"))\n",
    "    \n",
    "    l = 0\n",
    "    for a in alph:\n",
    "        b[l]=a+\"ing\"\n",
    "        l = l+1\n",
    "    print(b)\n",
    "countinue()"
   ]
  },
  {
   "cell_type": "code",
   "execution_count": 28,
   "metadata": {},
   "outputs": [
    {
     "name": "stdout",
     "output_type": "stream",
     "text": [
      "Enter radius  of Circle 1 : 2\n",
      "Enter radius of Circle 2: 3\n",
      "Area is = 12.57cm²\n",
      "Area is = 28.27cm²\n",
      " Area is 15.71cm²\n"
     ]
    }
   ],
   "source": [
    "# time 15 minute\n",
    "from math import pi\n",
    "def Area_1():\n",
    "    radius=eval(input(\"Enter radius  of Circle 1 : \"))\n",
    "    radius_1=eval(input(\"Enter radius of Circle 2: \"))\n",
    "    \n",
    "    circle = pi * radius**2\n",
    "    print(\"Area is = {0:.{1}f}cm\\u00b2\".format(circle,2))\n",
    "    circle_1 = pi * radius_1**2\n",
    "    print(\"Area is = {0:.{1}f}cm\\u00b2\".format(circle_1,2))\n",
    "    \n",
    "    if circle > circle_1 :\n",
    "        Remain = circle-circle_1\n",
    "        print(\" Area is {0:.{1}f}cm\\u00b2\".format(Remain,2))\n",
    "    elif circle_1 > circle :\n",
    "        Remain = circle_1-circle\n",
    "        print(\" Area is {0:.{1}f}cm\\u00b2\".format(Remain,2))\n",
    "Area_1()"
   ]
  },
  {
   "cell_type": "code",
   "execution_count": 30,
   "metadata": {},
   "outputs": [
    {
     "name": "stdout",
     "output_type": "stream",
     "text": [
      "Enter a String : omER\n",
      " Uppercase :  2\n",
      " Lowercase :  2\n"
     ]
    }
   ],
   "source": [
    "#time 20 minute\n",
    "def count():\n",
    "    total = 0\n",
    "    count = 0\n",
    "    string = str(input(\"Enter a String : \"))\n",
    "    \n",
    "    for i in string:\n",
    "        if i in 'ABCDEFGHIJKLMNOPQRSTUVWXYZ':\n",
    "            total = total + 1\n",
    "        else:\n",
    "            if i in 'abbcdefghijklmnopqrstuvwxyz':\n",
    "                count = count + 1\n",
    "    print(\" Uppercase : \",total)\n",
    "    print(\" Lowercase : \",count)\n",
    "count()"
   ]
  },
  {
   "cell_type": "code",
   "execution_count": 32,
   "metadata": {},
   "outputs": [
    {
     "name": "stdout",
     "output_type": "stream",
     "text": [
      "Enter Length of Rectangle 1 : 2\n",
      "Enter Bredth of Rectangle 1 : 2\n",
      "Enter Length of Rectangle 2 : 2\n",
      "Enter Bredth of Rectangle 2 : 2\n"
     ]
    }
   ],
   "source": [
    "def area_1():\n",
    "    l1=eval(input(\"Enter Length of Rectangle 1 : \"))\n",
    "    b1=eval(input(\"Enter Bredth of Rectangle 1 : \"))\n",
    "    l2=eval(input(\"Enter Length of Rectangle 2 : \"))\n",
    "    b2=eval(input(\"Enter Bredth of Rectangle 2 : \"))\n",
    "    area1 = l1*b1\n",
    "    area2 = l2*b2\n",
    "    if area1 > area2:\n",
    "        Remaining = area1-area2\n",
    "        print(\"Area of Bigger rectangle subtracted from smaller Rectangle : {0:.{1}f}cm\\u00b2\".format(Remaining,2))\n",
    "    if area2 > area1:\n",
    "        Remaining = area2-area1\n",
    "        print(\"Area of Bigger rectangle subtracted from smaller Rectangle : {0:.{1}f}cm\\u00b2\".format(Remaining,2))  \n",
    "area_1()"
   ]
  },
  {
   "cell_type": "code",
   "execution_count": 36,
   "metadata": {},
   "outputs": [
    {
     "name": "stdout",
     "output_type": "stream",
     "text": [
      "761/280\n"
     ]
    }
   ],
   "source": [
    "def add():\n",
    "    from fractions import Fraction\n",
    "    sum = 0\n",
    "    for i in range(1,9):\n",
    "        sum = sum + Fraction(1,i) \n",
    "        \n",
    "    print(sum)\n",
    "add()"
   ]
  },
  {
   "cell_type": "code",
   "execution_count": 37,
   "metadata": {},
   "outputs": [
    {
     "name": "stdout",
     "output_type": "stream",
     "text": [
      "Enter Fruit Name : kiwi\n",
      "Enter Fruit Name : orange\n",
      "Enter Fruit Name : banana\n",
      "Enter Fruit Name : apple\n",
      "Number of Unique letter :  4\n",
      "Number of Repetitive Letter :  17\n"
     ]
    }
   ],
   "source": [
    "def counter():\n",
    "    j = ['']\n",
    "    count = 0\n",
    "    total = 0\n",
    "    fruits=['','','','']\n",
    "    for i in range(4):\n",
    "        fruits[i]=input(\"Enter Fruit Name : \")\n",
    "    for i in fruits:\n",
    "        for x in i :\n",
    "            if i in j:\n",
    "                count = count + 1 \n",
    "            if i not in j:\n",
    "                j.append(i)\n",
    "                total = total + 1 \n",
    "    print(\"Unique letter : \",total)\n",
    "    print(\"Repetitive Letter : \",count)\n",
    "counter()"
   ]
  },
  {
   "cell_type": "code",
   "execution_count": 35,
   "metadata": {},
   "outputs": [
    {
     "name": "stdout",
     "output_type": "stream",
     "text": [
      "Enter length of square : 2\n",
      "Enter radius of Circle : 3\n",
      "Area of Square = 4.00cm²\n",
      "Area of Circle = 28.27cm²\n",
      " Area of Circle , Remaining Area is 24.27cm²\n"
     ]
    }
   ],
   "source": [
    "from math import pi\n",
    "def Remain_area():\n",
    "    length=eval(input(\"Enter length of square : \"))\n",
    "    radius=eval(input(\"Enter radius of Circle : \"))\n",
    "    #Area of Square\n",
    "    square = 2 * length\n",
    "    print(\"Area of Square = {0:.{1}f}cm\\u00b2\".format(square,2))\n",
    "    circle = pi * radius**2\n",
    "    print(\"Area of Circle = {0:.{1}f}cm\\u00b2\".format(circle,2))\n",
    "    \n",
    "    if square > circle :\n",
    "        Remaining_1 = square-circle\n",
    "        print(\"Area of Square , Remaining Area is {0:.{1}f}cm\\u00b2\".format(Remaining_1,2))\n",
    "    elif circle > square :\n",
    "        Remaining_1 = circle-square\n",
    "        print(\" Area of Circle , Remaining Area is {0:.{1}f}cm\\u00b2\".format(Remaining_1,2))\n",
    "Remain_area()"
   ]
  }
 ],
 "metadata": {
  "kernelspec": {
   "display_name": "Python 3",
   "language": "python",
   "name": "python3"
  },
  "language_info": {
   "codemirror_mode": {
    "name": "ipython",
    "version": 3
   },
   "file_extension": ".py",
   "mimetype": "text/x-python",
   "name": "python",
   "nbconvert_exporter": "python",
   "pygments_lexer": "ipython3",
   "version": "3.7.3"
  }
 },
 "nbformat": 4,
 "nbformat_minor": 2
}
