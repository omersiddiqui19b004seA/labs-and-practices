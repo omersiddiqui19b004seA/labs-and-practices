{
 "cells": [
  {
   "cell_type": "code",
   "execution_count": 1,
   "metadata": {},
   "outputs": [
    {
     "name": "stdout",
     "output_type": "stream",
     "text": [
      "What s Your Name : Omer\n",
      "How Old Are You : 19\n",
      "OmerWIll be 100 years old in the year2100\n"
     ]
    }
   ],
   "source": [
    "name =input(\"What s Your Name : \")\n",
    "age = int(input(\"How Old Are You : \"))\n",
    "year = str((2019 -age) + 100)\n",
    "print(name +\"WIll be 100 years old in the year\" + year)"
   ]
  },
  {
   "cell_type": "code",
   "execution_count": 2,
   "metadata": {},
   "outputs": [
    {
     "name": "stdout",
     "output_type": "stream",
     "text": [
      "Twinkle,twinke little star\n",
      "\tHow I wonder what you are!\n",
      "\t\tUp above the world so high\n",
      "\t\tLike a diamond in the sky.\n",
      "Twinkle,twinkle little star\n",
      "\tHow I wonder what you are!\n"
     ]
    }
   ],
   "source": [
    "print(\"Twinkle,twinke little star\\n\\tHow I wonder what you are!\\n\\t\\tUp above the world so high\\n\\t\\tLike a diamond in the sky.\\nTwinkle,twinkle little star\\n\\tHow I wonder what you are!\")"
   ]
  },
  {
   "cell_type": "code",
   "execution_count": 3,
   "metadata": {},
   "outputs": [
    {
     "name": "stdout",
     "output_type": "stream",
     "text": [
      "Current date and time : \n",
      "2019-10-23 12:57:17\n"
     ]
    }
   ],
   "source": [
    "import datetime\n",
    "now = datetime.datetime.now()\n",
    "print(\"Current date and time : \")\n",
    "print(now.strftime(\"%Y-%m-%d %H:%M:%S\"))"
   ]
  },
  {
   "cell_type": "code",
   "execution_count": 4,
   "metadata": {},
   "outputs": [
    {
     "name": "stdout",
     "output_type": "stream",
     "text": [
      "Enter the radius of the circle : 26\n",
      "the Area of the circle with the radius 26.0is:2123.7166338267\n"
     ]
    }
   ],
   "source": [
    "from math import pi\n",
    "r = float (input(\"Enter the radius of the circle : \"))\n",
    "print(\"the Area of the circle with the radius \" + str(r)+\"is:\"+str(pi*r**2))"
   ]
  },
  {
   "cell_type": "code",
   "execution_count": 5,
   "metadata": {},
   "outputs": [
    {
     "name": "stdout",
     "output_type": "stream",
     "text": [
      "Enter your First name : omer\n",
      "Enter Your Last name : khan\n",
      "HELLO omerkhan\n"
     ]
    }
   ],
   "source": [
    "firstname = input(\"Enter your First name : \")\n",
    "lastname = input(\"Enter Your Last name : \")\n",
    "print(\"HELLO \"+ firstname + lastname)"
   ]
  },
  {
   "cell_type": "code",
   "execution_count": 6,
   "metadata": {},
   "outputs": [
    {
     "name": "stdout",
     "output_type": "stream",
     "text": [
      "Enter the Year2019\n",
      "Enter the Month10\n",
      "    October 2019\n",
      "Mo Tu We Th Fr Sa Su\n",
      "    1  2  3  4  5  6\n",
      " 7  8  9 10 11 12 13\n",
      "14 15 16 17 18 19 20\n",
      "21 22 23 24 25 26 27\n",
      "28 29 30 31\n",
      "\n"
     ]
    }
   ],
   "source": [
    "\n",
    "import calendar\n",
    "y = int(input(\"Enter the Year\"))\n",
    "m = int(input(\"Enter the Month\"))\n",
    "print(calendar.month(y,m))"
   ]
  },
  {
   "cell_type": "code",
   "execution_count": 7,
   "metadata": {},
   "outputs": [
    {
     "name": "stdout",
     "output_type": "stream",
     "text": [
      "Enter farenheit26\n",
      "requied answer in celcius is32.22222222222222\n"
     ]
    }
   ],
   "source": [
    "far = int(input(\"Enter farenheit\"))\n",
    "sum = (far + 32)\n",
    "asum = str((sum *5/9))\n",
    "print(\"requied answer in celcius is\" + asum)"
   ]
  },
  {
   "cell_type": "code",
   "execution_count": 8,
   "metadata": {},
   "outputs": [
    {
     "name": "stdout",
     "output_type": "stream",
     "text": [
      "Enter centigrate24\n",
      "requied answer in farenheit is57.8\n"
     ]
    }
   ],
   "source": [
    "cent = int(input(\"Enter centigrate\"))\n",
    "sum = (9/5 + cent)\n",
    "asum = str((sum + 32))\n",
    "print(\"requied answer in farenheit is\" + asum)"
   ]
  },
  {
   "cell_type": "code",
   "execution_count": 9,
   "metadata": {},
   "outputs": [
    {
     "name": "stdout",
     "output_type": "stream",
     "text": [
      "Enter the Length : 26\n",
      "Enter the Breadth : 24\n",
      "The Area of Rectangle is 50\n"
     ]
    }
   ],
   "source": [
    "\n",
    "length = int(input(\"Enter the Length : \"))\n",
    "breadth = int(input(\"Enter the Breadth : \"))\n",
    "ans = str((length + breadth))\n",
    "print(\"The Area of Rectangle is \" + ans)"
   ]
  },
  {
   "cell_type": "code",
   "execution_count": 10,
   "metadata": {},
   "outputs": [
    {
     "name": "stdout",
     "output_type": "stream",
     "text": [
      "Enter radius24\n",
      "The Volume of sphere57913.344\n"
     ]
    }
   ],
   "source": [
    "rad = float(input(\"Enter radius\"))\n",
    "pi = 3.142\n",
    "form = str((4/3 * pi * rad**3))\n",
    "print(\"The Volume of sphere\" + form)"
   ]
  },
  {
   "cell_type": "code",
   "execution_count": 11,
   "metadata": {},
   "outputs": [
    {
     "name": "stdout",
     "output_type": "stream",
     "text": [
      "Enter Your Name : Omer\n",
      "omer\n",
      "OMER\n",
      "Omer\n"
     ]
    }
   ],
   "source": [
    "name =input(\"Enter Your Name : \")\n",
    "print(name.lower())\n",
    "print(name.upper())\n",
    "print(name.title())"
   ]
  }
 ],
 "metadata": {
  "kernelspec": {
   "display_name": "Python 3",
   "language": "python",
   "name": "python3"
  },
  "language_info": {
   "codemirror_mode": {
    "name": "ipython",
    "version": 3
   },
   "file_extension": ".py",
   "mimetype": "text/x-python",
   "name": "python",
   "nbconvert_exporter": "python",
   "pygments_lexer": "ipython3",
   "version": "3.7.3"
  }
 },
 "nbformat": 4,
 "nbformat_minor": 2
}
