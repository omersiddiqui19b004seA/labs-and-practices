{
 "cells": [
  {
   "cell_type": "code",
   "execution_count": 9,
   "metadata": {},
   "outputs": [
    {
     "name": "stdout",
     "output_type": "stream",
     "text": [
      "Tuesday, November 26 2019\n",
      "01:09 PM Pakistan Standard Time on 11/26/2019\n",
      "I will meet you on Tue November 11 at 01:09 PM\n"
     ]
    }
   ],
   "source": [
    "#ex 1\n",
    "#Q 1\n",
    "# a\n",
    "import time\n",
    "def strf_time():\n",
    "    print(time.strftime(\"%A, %B %d %Y\",time.localtime())),(time.strftime)\n",
    "    #b\n",
    "    print(time.strftime(\"%I:%M %p %Z on %m/%d/%Y\"))\n",
    "    #c\n",
    "    print(time.strftime(\"I will meet you on %a %B %m at %I:%M %p\"))\n",
    "strf_time()"
   ]
  },
  {
   "cell_type": "code",
   "execution_count": 16,
   "metadata": {},
   "outputs": [
    {
     "name": "stdout",
     "output_type": "stream",
     "text": [
      "the word day comes 2 times in string\n",
      "13\n",
      "It will be a cloudy day today\n"
     ]
    }
   ],
   "source": [
    "#Q 2\n",
    "#a\n",
    "a='It will be a sunny day today'\n",
    "b='day'\n",
    "c=a.count(b)\n",
    "print(\"the word day comes\",c,\"times in string\")\n",
    "#b\n",
    "forecast='sunny'\n",
    "e=a.index(forecast)\n",
    "print(e)\n",
    "#c\n",
    "s=a.replace('sunny','cloudy')\n",
    "print(s)\n"
   ]
  },
  {
   "cell_type": "code",
   "execution_count": 18,
   "metadata": {},
   "outputs": [
    {
     "name": "stdout",
     "output_type": "stream",
     "text": [
      "2 , 3 , 4 , 6 , 8 , 9 , 10 , 12 , 14 , 15 , 16 , "
     ]
    }
   ],
   "source": [
    "#Q 3\n",
    "def even(x):\n",
    "    for i in range(2,x+1):\n",
    "        if i%2==0:\n",
    "            print(i,end=(' , '))\n",
    "        elif i%3==0:\n",
    "            print(i,end=(' , '))\n",
    "even(17)"
   ]
  },
  {
   "cell_type": "code",
   "execution_count": 2,
   "metadata": {},
   "outputs": [
    {
     "name": "stdout",
     "output_type": "stream",
     "text": [
      "enter your first name omer\n",
      "enter your last name siddiqui\n",
      "enter street number 4567\n",
      "enter city karachi\n",
      "enter state central\n",
      "enter zip 4566\n",
      "omer \n",
      " siddiqui \n",
      " 4567 \n",
      " karachi \n",
      " central \n",
      " 4566\n"
     ]
    }
   ],
   "source": [
    "#Q 4\n",
    "def mailaddress():\n",
    "    \n",
    "    first=str(input(\"enter your first name \"))\n",
    "    last=str(input(\"enter your last name \"))\n",
    "    street=int(input(\"enter street number \"))\n",
    "    city=str(input(\"enter city \"))\n",
    "    state=str(input(\"enter state \"))\n",
    "    zip_code=int(input(\"enter zip \"))\n",
    "    print( first,\"\\n\",last ,\"\\n\",street,\"\\n\",city,\"\\n\",state,\"\\n\",zip_code)\n",
    "mailaddress()"
   ]
  },
  {
   "cell_type": "code",
   "execution_count": 1,
   "metadata": {},
   "outputs": [],
   "source": []
  },
  {
   "cell_type": "code",
   "execution_count": null,
   "metadata": {},
   "outputs": [],
   "source": []
  }
 ],
 "metadata": {
  "kernelspec": {
   "display_name": "Python 3",
   "language": "python",
   "name": "python3"
  },
  "language_info": {
   "codemirror_mode": {
    "name": "ipython",
    "version": 3
   },
   "file_extension": ".py",
   "mimetype": "text/x-python",
   "name": "python",
   "nbconvert_exporter": "python",
   "pygments_lexer": "ipython3",
   "version": "3.7.3"
  }
 },
 "nbformat": 4,
 "nbformat_minor": 2
}
